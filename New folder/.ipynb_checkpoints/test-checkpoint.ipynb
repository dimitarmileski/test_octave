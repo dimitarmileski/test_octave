{
 "cells": [
  {
   "cell_type": "code",
   "execution_count": 1,
   "metadata": {},
   "outputs": [],
   "source": [
    "% example of QPerf perfusion flow mapping\n",
    "\n",
    "clear all\n",
    "close all\n",
    "\n",
    "% suppose the QPerf repo was cloned to QPerf directory\n",
    "% git clone ...\n",
    "\n",
    "% load the stored data\n",
    "\n",
    "%cd .\\QPerf\\examples"
   ]
  },
  {
   "cell_type": "code",
   "execution_count": 2,
   "metadata": {},
   "outputs": [
    {
     "name": "stdout",
     "output_type": "stream",
     "text": [
      "** Warning: Cannot interrupt Octave on Windows\n"
     ]
    },
    {
     "name": "stderr",
     "output_type": "stream",
     "text": [
      "\u001b[1;31m<pexpect.popen_spawn.PopenSpawn object at 0x000002621CED8730>\n",
      "searcher: searcher_re:\n",
      "    0: re.compile('PEXPECT_PROMPT>')\n",
      "    1: re.compile('\\r\\n')\n",
      "<pexpect.popen_spawn.PopenSpawn object at 0x000002621CED8730>\n",
      "searcher: searcher_re:\n",
      "    0: re.compile('PEXPECT_PROMPT>')\n",
      "    1: re.compile('\\r\\n')\n",
      "\u001b[0m"
     ]
    },
    {
     "name": "stdout",
     "output_type": "stream",
     "text": [
      "** Warning: Cannot interrupt Octave on Windows\n"
     ]
    },
    {
     "name": "stderr",
     "output_type": "stream",
     "text": [
      "\u001b[1;31m<pexpect.popen_spawn.PopenSpawn object at 0x000002621CED8730>\n",
      "searcher: searcher_re:\n",
      "    0: re.compile('PEXPECT_PROMPT>')\n",
      "    1: re.compile('\\r\\n')\n",
      "<pexpect.popen_spawn.PopenSpawn object at 0x000002621CED8730>\n",
      "searcher: searcher_re:\n",
      "    0: re.compile('PEXPECT_PROMPT>')\n",
      "    1: re.compile('\\r\\n')\n",
      "\u001b[0m"
     ]
    }
   ],
   "source": [
    "function perf_color_map = PerfColorMap(use_cmap)\n",
    "\n",
    "if(nargin<1)\n",
    "    use_cmap = 1;\n",
    "end\n",
    "\n",
    "load color_perf_flow_map2\n",
    "perf_color_map = p;\n",
    "if (use_cmap) \n",
    "    colormap(perf_color_map)\n",
    "end"
   ]
  },
  {
   "cell_type": "code",
   "execution_count": null,
   "metadata": {},
   "outputs": [],
   "source": [
    "load perf_data_stress"
   ]
  },
  {
   "cell_type": "code",
   "execution_count": null,
   "metadata": {},
   "outputs": [],
   "source": [
    "command = ['C:/Users/Dimitar/Downloads/QPerf-master/QPerf-master/software/QPerf/gadgetron_QPerf_mapping -f ./aif_stress -i ./data_stress -m ./MBF_stress --foot ' num2str(foot) ' --dt 500'];\n",
    "dos(command);"
   ]
  },
  {
   "cell_type": "code",
   "execution_count": null,
   "metadata": {},
   "outputs": [],
   "source": [
    "% load and visualize map\n",
    "fmap = analyze75read('MBF_stress');"
   ]
  },
  {
   "cell_type": "code",
   "execution_count": null,
   "metadata": {},
   "outputs": [],
   "source": [
    "figure; \n",
    "plot(aif);\n",
    "title('AIF');"
   ]
  },
  {
   "cell_type": "code",
   "execution_count": null,
   "metadata": {},
   "outputs": [],
   "source": [
    "figure; imshow(fmap, 'DisplayRange', [0 6]);PerfColorMap;"
   ]
  }
 ],
 "metadata": {
  "kernelspec": {
   "display_name": "Octave",
   "language": "octave",
   "name": "octave"
  },
  "language_info": {
   "file_extension": ".m",
   "help_links": [
    {
     "text": "GNU Octave",
     "url": "https://www.gnu.org/software/octave/support.html"
    },
    {
     "text": "Octave Kernel",
     "url": "https://github.com/Calysto/octave_kernel"
    },
    {
     "text": "MetaKernel Magics",
     "url": "https://metakernel.readthedocs.io/en/latest/source/README.html"
    }
   ],
   "mimetype": "text/x-octave",
   "name": "octave",
   "version": "6.1.0"
  }
 },
 "nbformat": 4,
 "nbformat_minor": 4
}
