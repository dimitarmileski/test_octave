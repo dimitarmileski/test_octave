{
 "cells": [
  {
   "cell_type": "markdown",
   "metadata": {},
   "source": [
    "Jupyter Octave Kernel\n",
    "============\n",
    "\n",
    "Interact with Octave in Notebook. All commands are interpreted by Octave.  Since this is a [MetaKernel](https://github.com/Calysto/metakernel), a standard set of magics are available.  Help on commands is available using the `%help` magic or using `?` with a command."
   ]
  },
  {
   "cell_type": "code",
   "execution_count": 1,
   "metadata": {
    "jupyter": {
     "outputs_hidden": false
    }
   },
   "outputs": [
    {
     "name": "stderr",
     "output_type": "stream",
     "text": [
      "\u001b[1;31mInline plot failed, consider trying another graphics toolkit\n",
      "error: print: figure must be visible or qt toolkit must be used with __gl_window__ property 'on' or QT_OFFSCREEN feature available\n",
      "error: called from\n",
      "    _make_figures>safe_print at line 125 column 7\n",
      "    _make_figures at line 49 column 13\n",
      "\n",
      "\u001b[0m"
     ]
    }
   ],
   "source": [
    "t=-10:0.01:10;\n",
    "x=16*(power(sin(t),3));\n",
    "y=(13*cos(t))-(5*cos(2*t))-(2*cos(3*t))-(cos(4*t));\n",
    "plot(x,y)\n",
    "title(\"Heart with Octave\", 'Color','k','fontsize',18)"
   ]
  },
  {
   "cell_type": "code",
   "execution_count": null,
   "metadata": {
    "jupyter": {
     "outputs_hidden": false
    }
   },
   "outputs": [],
   "source": [
    "%plot --format png\n",
    "tx = ty = linspace (-8, 8, 41)';\n",
    "[xx, yy] = meshgrid (tx, ty);\n",
    "r = sqrt (xx .^ 2 + yy .^ 2) + eps;\n",
    "tz = sin (r) ./ r;\n",
    "mesh (tx, ty, tz);"
   ]
  },
  {
   "cell_type": "code",
   "execution_count": null,
   "metadata": {
    "jupyter": {
     "outputs_hidden": false
    }
   },
   "outputs": [],
   "source": [
    "a = [1,2,3]"
   ]
  },
  {
   "cell_type": "code",
   "execution_count": null,
   "metadata": {
    "jupyter": {
     "outputs_hidden": false
    }
   },
   "outputs": [],
   "source": [
    "b = a + 3;"
   ]
  },
  {
   "cell_type": "code",
   "execution_count": null,
   "metadata": {
    "jupyter": {
     "outputs_hidden": false
    }
   },
   "outputs": [],
   "source": [
    "disp(b)"
   ]
  },
  {
   "cell_type": "markdown",
   "metadata": {},
   "source": [
    "The width or the height can be specified to constrain the image while maintaining the original aspect ratio."
   ]
  },
  {
   "cell_type": "code",
   "execution_count": null,
   "metadata": {
    "jupyter": {
     "outputs_hidden": false
    }
   },
   "outputs": [],
   "source": [
    "%plot -f png -w 600\n",
    "\n",
    "% butterworth filter, order 2, cutoff pi/2 radians\n",
    "b = [0.292893218813452  0.585786437626905  0.292893218813452];\n",
    "a = [1  0  0.171572875253810];\n",
    "freqz(b, a, 32);"
   ]
  },
  {
   "cell_type": "markdown",
   "metadata": {},
   "source": [
    "Multiple figures can be drawn.  Note that when using imshow the image will be created as a PNG with the raw\n",
    "image dimensions unless the image has a title or labels."
   ]
  },
  {
   "cell_type": "code",
   "execution_count": null,
   "metadata": {
    "jupyter": {
     "outputs_hidden": false
    }
   },
   "outputs": [],
   "source": [
    "% small image\n",
    "imshow(randn(100,100))\n",
    "\n",
    "% let's change the data range\n",
    "figure\n",
    "imshow(randn(100,100), [-10 10])\n",
    "\n",
    "% let's try automatic range and different size\n",
    "figure\n",
    "imshow(randn(100,200), [])\n",
    "colormap('autumn')"
   ]
  },
  {
   "cell_type": "code",
   "execution_count": null,
   "metadata": {
    "jupyter": {
     "outputs_hidden": false
    }
   },
   "outputs": [],
   "source": [
    "% Create an RGB image with no title or labels\n",
    "close all hidden\n",
    "image = zeros(300,400,3);\n",
    "image(1:100,:,1) = 0.9;  % Red\n",
    "image(101:200,:,2) = rand(100,400);  % Green\n",
    "image(201:300,:,3) = 0.9;  % Blue\n",
    "imshow(image)"
   ]
  },
  {
   "cell_type": "code",
   "execution_count": null,
   "metadata": {
    "jupyter": {
     "outputs_hidden": false
    }
   },
   "outputs": [],
   "source": [
    "% image that is too small to display raw (<100 pixels)\n",
    "imshow(rand(50,50))"
   ]
  },
  {
   "cell_type": "code",
   "execution_count": null,
   "metadata": {
    "jupyter": {
     "outputs_hidden": false
    }
   },
   "outputs": [],
   "source": [
    "% let's add a title - this produces full figure\n",
    "imshow(rand(100,100))\n",
    "title('Hello')\n",
    "\n",
    "% let's create an image next to a plot\n",
    "figure\n",
    "subplot(121)\n",
    "plot([1,2,3])\n",
    "subplot(122)\n",
    "imshow(randn(100,100))"
   ]
  },
  {
   "cell_type": "code",
   "execution_count": null,
   "metadata": {
    "jupyter": {
     "outputs_hidden": false
    },
    "scrolled": true
   },
   "outputs": [],
   "source": [
    "%lsmagic"
   ]
  },
  {
   "cell_type": "code",
   "execution_count": null,
   "metadata": {
    "jupyter": {
     "outputs_hidden": true
    }
   },
   "outputs": [],
   "source": []
  },
  {
   "cell_type": "code",
   "execution_count": null,
   "metadata": {},
   "outputs": [],
   "source": []
  }
 ],
 "metadata": {
  "anaconda-cloud": {},
  "kernelspec": {
   "display_name": "Octave",
   "language": "octave",
   "name": "octave"
  },
  "language_info": {
   "file_extension": ".m",
   "help_links": [
    {
     "text": "GNU Octave",
     "url": "https://www.gnu.org/software/octave/support.html"
    },
    {
     "text": "Octave Kernel",
     "url": "https://github.com/Calysto/octave_kernel"
    },
    {
     "text": "MetaKernel Magics",
     "url": "https://metakernel.readthedocs.io/en/latest/source/README.html"
    }
   ],
   "mimetype": "text/x-octave",
   "name": "octave",
   "version": "6.1.0"
  }
 },
 "nbformat": 4,
 "nbformat_minor": 4
}
