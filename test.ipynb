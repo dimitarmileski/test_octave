{
 "cells": [
  {
   "cell_type": "code",
   "execution_count": 1,
   "metadata": {},
   "outputs": [],
   "source": [
    "% example of QPerf perfusion flow mapping\n",
    "pkg load image\n",
    "clear all\n",
    "close all\n",
    "\n",
    "% suppose the QPerf repo was cloned to QPerf directory\n",
    "% git clone ...\n",
    "\n",
    "% load the stored data\n",
    "\n",
    "%cd .\\QPerf\\examples\n"
   ]
  },
  {
   "cell_type": "code",
   "execution_count": 2,
   "metadata": {},
   "outputs": [],
   "source": [
    "load perf_data_stress"
   ]
  },
  {
   "cell_type": "code",
   "execution_count": 3,
   "metadata": {},
   "outputs": [
    {
     "name": "stdout",
     "output_type": "stream",
     "text": [
      "working_directory = C:\\Users\\Dimitar\\Downloads\\octave\n"
     ]
    }
   ],
   "source": [
    "working_directory = pwd"
   ]
  },
  {
   "cell_type": "code",
   "execution_count": 4,
   "metadata": {},
   "outputs": [],
   "source": [
    "working_directory =strrep(working_directory , \"\\\\\", \"/\");"
   ]
  },
  {
   "cell_type": "code",
   "execution_count": 5,
   "metadata": {},
   "outputs": [
    {
     "name": "stdout",
     "output_type": "stream",
     "text": [
      "--------------Gagdgetron ND Array -------------\r\n",
      "Array dimension is : 2\r\n",
      "Array size is : 59 1 \r\n",
      "Array data type is : float\r\n",
      "Byte number for each element is : 4\r\n",
      "Number of array size in bytes is : 236\r\n",
      "Delete data on destruction flag is : 1\r\n",
      "\r\n",
      "01-02 02:29:13.446 DEBUG [gadgetron_QPerf_mapping.cpp:75] cin_array = 7.11366\r\n",
      "--------------Gagdgetron ND Array -------------\r\n",
      "Array dimension is : 3\r\n",
      "Array size is : 40 37 59 \r\n",
      "Array data type is : float\r\n",
      "Byte number for each element is : 4\r\n",
      "Number of array size in bytes is : 349280\r\n",
      "Delete data on destruction flag is : 1\r\n",
      "\r\n",
      "01-02 02:29:13.450 DEBUG [gadgetron_QPerf_mapping.cpp:80] y_array = 149.444\r\n",
      "01-02 02:29:13.450 DEBUG [gadgetron_QPerf_mapping.cpp:86] ==========================================================\r\n",
      "01-02 02:29:47.535 DEBUG [GadgetronTimer.h:87] compute_BTEX20_model with HCT ... :34084.162500 ms\r\n",
      "01-02 02:30:07.264 DEBUG [GadgetronTimer.h:87] PDE model solving ... :19509.644500 ms\r\n",
      "01-02 02:30:07.273 DEBUG [GadgetronTimer.h:87] compute perfusion flow map ... :53822.342500 ms\r\n",
      "01-02 02:30:07.293 DEBUG [gadgetron_QPerf_mapping.cpp:107] ==========================================================\r\n",
      "\n"
     ]
    }
   ],
   "source": [
    "command = [working_directory '/software/QPerf/gadgetron_QPerf_mapping -f ./aif_stress -i ./data_stress -m ./MBF_stress --foot ' num2str(foot) ' --dt 500'];\n",
    "dos(command);"
   ]
  },
  {
   "cell_type": "code",
   "execution_count": 6,
   "metadata": {},
   "outputs": [],
   "source": [
    "graphics_toolkit('gnuplot')"
   ]
  },
  {
   "cell_type": "code",
   "execution_count": 7,
   "metadata": {},
   "outputs": [],
   "source": [
    "%plot gnuplot"
   ]
  },
  {
   "cell_type": "code",
   "execution_count": 8,
   "metadata": {},
   "outputs": [],
   "source": [
    "% load and visualize map\n",
    "fmap = analyze75read('MBF_stress.hdr');"
   ]
  },
  {
   "cell_type": "code",
   "execution_count": 10,
   "metadata": {},
   "outputs": [],
   "source": [
    "figure;\n",
    "plot(aif);\n",
    "title('AIF');\n",
    "figure;imshow(fmap, 'DisplayRange', [0 6]);PerfColorMap;"
   ]
  },
  {
   "cell_type": "code",
   "execution_count": null,
   "metadata": {},
   "outputs": [],
   "source": []
  }
 ],
 "metadata": {
  "kernelspec": {
   "display_name": "Octave",
   "language": "octave",
   "name": "octave"
  },
  "language_info": {
   "file_extension": ".m",
   "help_links": [
    {
     "text": "GNU Octave",
     "url": "https://www.gnu.org/software/octave/support.html"
    },
    {
     "text": "Octave Kernel",
     "url": "https://github.com/Calysto/octave_kernel"
    },
    {
     "text": "MetaKernel Magics",
     "url": "https://metakernel.readthedocs.io/en/latest/source/README.html"
    }
   ],
   "mimetype": "text/x-octave",
   "name": "octave",
   "version": "6.1.0"
  }
 },
 "nbformat": 4,
 "nbformat_minor": 4
}
